{
 "cells": [
  {
   "cell_type": "markdown",
   "metadata": {
    "toc": true
   },
   "source": [
    "<h1>Table of Contents<span class=\"tocSkip\"></span></h1>\n",
    "<div class=\"toc\" style=\"margin-top: 1em;\"><ul class=\"toc-item\"><li><span><a href=\"#template\" data-toc-modified-id=\"template-1\"><span class=\"toc-item-num\">1&nbsp;&nbsp;</span>template</a></span></li><li><span><a href=\"#magic\" data-toc-modified-id=\"magic-2\"><span class=\"toc-item-num\">2&nbsp;&nbsp;</span>magic</a></span></li><li><span><a href=\"#path\" data-toc-modified-id=\"path-3\"><span class=\"toc-item-num\">3&nbsp;&nbsp;</span>path</a></span></li><li><span><a href=\"#print\" data-toc-modified-id=\"print-4\"><span class=\"toc-item-num\">4&nbsp;&nbsp;</span>print</a></span></li><li><span><a href=\"#loop\" data-toc-modified-id=\"loop-5\"><span class=\"toc-item-num\">5&nbsp;&nbsp;</span>loop</a></span><ul class=\"toc-item\"><li><span><a href=\"#numpy\" data-toc-modified-id=\"numpy-5.1\"><span class=\"toc-item-num\">5.1&nbsp;&nbsp;</span>numpy</a></span></li></ul></li><li><span><a href=\"#pandas\" data-toc-modified-id=\"pandas-6\"><span class=\"toc-item-num\">6&nbsp;&nbsp;</span>pandas</a></span></li><li><span><a href=\"#numpy\" data-toc-modified-id=\"numpy-7\"><span class=\"toc-item-num\">7&nbsp;&nbsp;</span>numpy</a></span><ul class=\"toc-item\"><li><span><a href=\"#配列の生成\" data-toc-modified-id=\"配列の生成-7.1\"><span class=\"toc-item-num\">7.1&nbsp;&nbsp;</span>配列の生成</a></span></li><li><span><a href=\"#ランダム\" data-toc-modified-id=\"ランダム-7.2\"><span class=\"toc-item-num\">7.2&nbsp;&nbsp;</span>ランダム</a></span><ul class=\"toc-item\"><li><span><a href=\"#正規分布\" data-toc-modified-id=\"正規分布-7.2.1\"><span class=\"toc-item-num\">7.2.1&nbsp;&nbsp;</span>正規分布</a></span></li></ul></li></ul></li><li><span><a href=\"#plot\" data-toc-modified-id=\"plot-8\"><span class=\"toc-item-num\">8&nbsp;&nbsp;</span>plot</a></span><ul class=\"toc-item\"><li><span><a href=\"#figure\" data-toc-modified-id=\"figure-8.1\"><span class=\"toc-item-num\">8.1&nbsp;&nbsp;</span>figure</a></span></li><li><span><a href=\"#ax\" data-toc-modified-id=\"ax-8.2\"><span class=\"toc-item-num\">8.2&nbsp;&nbsp;</span>ax</a></span></li><li><span><a href=\"#ヒストグラム\" data-toc-modified-id=\"ヒストグラム-8.3\"><span class=\"toc-item-num\">8.3&nbsp;&nbsp;</span>ヒストグラム</a></span></li></ul></li><li><span><a href=\"#pandas,-重複データを抽出\" data-toc-modified-id=\"pandas,-重複データを抽出-9\"><span class=\"toc-item-num\">9&nbsp;&nbsp;</span>pandas, 重複データを抽出</a></span></li></ul></div>"
   ]
  },
  {
   "cell_type": "markdown",
   "metadata": {},
   "source": [
    "## template"
   ]
  },
  {
   "cell_type": "code",
   "execution_count": null,
   "metadata": {
    "collapsed": true
   },
   "outputs": [],
   "source": [
    "import sys\n",
    "import numpy as np\n",
    "import matplotlib.pyplot as plt\n",
    "%matplotlib inline\n",
    "%config InlineBackend.figure_format = 'retina'"
   ]
  },
  {
   "cell_type": "markdown",
   "metadata": {},
   "source": [
    "## magic"
   ]
  },
  {
   "cell_type": "code",
   "execution_count": null,
   "metadata": {
    "collapsed": true
   },
   "outputs": [],
   "source": [
    "%qtconsole  # コンソール\n",
    "%matplotlib qt  # 別ウィンドウで表示（matplotlib import後に実行）"
   ]
  },
  {
   "cell_type": "markdown",
   "metadata": {},
   "source": [
    "## path"
   ]
  },
  {
   "cell_type": "code",
   "execution_count": null,
   "metadata": {
    "collapsed": true
   },
   "outputs": [],
   "source": [
    "import os\n",
    "os.path.dirname(PATH_IN)\n",
    "os.path.basename(PATH_IN)\n"
   ]
  },
  {
   "cell_type": "markdown",
   "metadata": {},
   "source": [
    "## print"
   ]
  },
  {
   "cell_type": "code",
   "execution_count": null,
   "metadata": {
    "collapsed": true
   },
   "outputs": [],
   "source": [
    "import sys\n",
    "for i in range(10):\n",
    "    sys.stderr.write('\\r%d' %i)\n",
    "    sys.stderr.flush()"
   ]
  },
  {
   "cell_type": "markdown",
   "metadata": {},
   "source": [
    "## loop"
   ]
  },
  {
   "cell_type": "markdown",
   "metadata": {},
   "source": [
    "### numpy"
   ]
  },
  {
   "cell_type": "code",
   "execution_count": null,
   "metadata": {
    "collapsed": true
   },
   "outputs": [],
   "source": [
    "fx = np.zeros_like(x)\n",
    "for i,xx in enumerate(x):\n",
    "    pass"
   ]
  },
  {
   "cell_type": "code",
   "execution_count": null,
   "metadata": {
    "collapsed": true
   },
   "outputs": [],
   "source": [
    "# np.array with index\n",
    "x = np.arange(-1,1,0.01)\n",
    "for i,xx in enumerate(x):\n",
    "    pass\n",
    "\n",
    "#"
   ]
  },
  {
   "cell_type": "markdown",
   "metadata": {},
   "source": [
    "## pandas"
   ]
  },
  {
   "cell_type": "code",
   "execution_count": null,
   "metadata": {
    "collapsed": true
   },
   "outputs": [],
   "source": [
    "df.head(3)\n",
    "df.rename(columns={'（平成）年式':'年式'},inplace=True)\n"
   ]
  },
  {
   "cell_type": "markdown",
   "metadata": {},
   "source": [
    "## numpy"
   ]
  },
  {
   "cell_type": "code",
   "execution_count": 1,
   "metadata": {
    "ExecuteTime": {
     "end_time": "2017-11-30T07:52:32.050088Z",
     "start_time": "2017-11-30T07:52:31.958282Z"
    },
    "collapsed": true
   },
   "outputs": [],
   "source": [
    "import numpy as np"
   ]
  },
  {
   "cell_type": "code",
   "execution_count": null,
   "metadata": {
    "collapsed": true
   },
   "outputs": [],
   "source": [
    "np.pi\n",
    "np.exp"
   ]
  },
  {
   "cell_type": "markdown",
   "metadata": {},
   "source": [
    "### 配列の生成"
   ]
  },
  {
   "cell_type": "code",
   "execution_count": null,
   "metadata": {
    "collapsed": true
   },
   "outputs": [],
   "source": [
    "# 指定した要素を繰り返す配列の生成\n",
    "a = np.array([np.nan]*100)\n",
    "\n",
    "# ランダム配列\n",
    "np.random.rand(100)\n",
    "\n",
    "# 等差数列\n",
    "np.arange(100)\n",
    "np.arange(-100,100)\n",
    "x = np.arange(-100,100,2)\n",
    "\n",
    "# 同じshapeのゼロ配列\n",
    "fx = np.zeros_like(x)"
   ]
  },
  {
   "cell_type": "markdown",
   "metadata": {},
   "source": [
    "### ランダム"
   ]
  },
  {
   "cell_type": "code",
   "execution_count": 2,
   "metadata": {
    "ExecuteTime": {
     "end_time": "2017-11-30T07:54:43.645979Z",
     "start_time": "2017-11-30T07:54:43.631935Z"
    }
   },
   "outputs": [
    {
     "data": {
      "text/plain": [
       "0.5488135039273248"
      ]
     },
     "execution_count": 2,
     "metadata": {},
     "output_type": "execute_result"
    }
   ],
   "source": [
    "#シード\n",
    "np.random.seed(0)\n",
    "\n",
    "#\n",
    "np.random.rand()"
   ]
  },
  {
   "cell_type": "markdown",
   "metadata": {},
   "source": [
    "#### 正規分布"
   ]
  },
  {
   "cell_type": "code",
   "execution_count": null,
   "metadata": {
    "collapsed": true
   },
   "outputs": [],
   "source": [
    "heikin = 0\n",
    "bunsan = 1\n",
    "N = 100\n",
    "a = np.random.normal(heikin,bunsan,N"
   ]
  },
  {
   "cell_type": "markdown",
   "metadata": {},
   "source": [
    "## plot"
   ]
  },
  {
   "cell_type": "code",
   "execution_count": null,
   "metadata": {
    "collapsed": true
   },
   "outputs": [],
   "source": [
    "import matplotlib.pyplot as plt\n"
   ]
  },
  {
   "cell_type": "markdown",
   "metadata": {},
   "source": [
    "### figure"
   ]
  },
  {
   "cell_type": "code",
   "execution_count": null,
   "metadata": {
    "collapsed": true
   },
   "outputs": [],
   "source": [
    "# close\n",
    "plt.close(1)\n",
    "\n",
    "# size\n",
    "plt.figure(1,figsize=(14,5))\n",
    "\n",
    "plt.show()\n",
    "plt.draw()"
   ]
  },
  {
   "cell_type": "markdown",
   "metadata": {},
   "source": [
    "### ax"
   ]
  },
  {
   "cell_type": "code",
   "execution_count": null,
   "metadata": {
    "collapsed": true
   },
   "outputs": [],
   "source": [
    "plt.legend()\n",
    "plt.grid()"
   ]
  },
  {
   "cell_type": "markdown",
   "metadata": {},
   "source": [
    "### ヒストグラム"
   ]
  },
  {
   "cell_type": "code",
   "execution_count": null,
   "metadata": {
    "collapsed": true
   },
   "outputs": [],
   "source": [
    "plt.hist(a,100)"
   ]
  }
 ],
 "metadata": {
  "kernelspec": {
   "display_name": "Python 3",
   "language": "python",
   "name": "python3"
  },
  "language_info": {
   "codemirror_mode": {
    "name": "ipython",
    "version": 3
   },
   "file_extension": ".py",
   "mimetype": "text/x-python",
   "name": "python",
   "nbconvert_exporter": "python",
   "pygments_lexer": "ipython3",
   "version": "3.6.1"
  },
  "toc": {
   "nav_menu": {},
   "number_sections": true,
   "sideBar": true,
   "skip_h1_title": true,
   "toc_cell": true,
   "toc_position": {
    "height": "1189px",
    "left": "0px",
    "right": "auto",
    "top": "107px",
    "width": "212px"
   },
   "toc_section_display": "block",
   "toc_window_display": true
  },
  "varInspector": {
   "cols": {
    "lenName": 16,
    "lenType": 16,
    "lenVar": 40
   },
   "kernels_config": {
    "python": {
     "delete_cmd_postfix": "",
     "delete_cmd_prefix": "del ",
     "library": "var_list.py",
     "varRefreshCmd": "print(var_dic_list())"
    },
    "r": {
     "delete_cmd_postfix": ") ",
     "delete_cmd_prefix": "rm(",
     "library": "var_list.r",
     "varRefreshCmd": "cat(var_dic_list()) "
    }
   },
   "types_to_exclude": [
    "module",
    "function",
    "builtin_function_or_method",
    "instance",
    "_Feature"
   ],
   "window_display": false
  }
 },
 "nbformat": 4,
 "nbformat_minor": 2
}
